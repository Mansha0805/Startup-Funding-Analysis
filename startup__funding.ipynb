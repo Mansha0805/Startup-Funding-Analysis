{
 "cells": [
  {
   "cell_type": "code",
   "execution_count": 482,
   "id": "742f0e1c-d58f-433e-97ee-5ecaf4ba7b53",
   "metadata": {},
   "outputs": [],
   "source": [
    "import pandas as pd  \n",
    "import numpy as np   \n",
    "import matplotlib.pyplot as plt  \n",
    "import seaborn as sns  \n",
    "import sqlite3"
   ]
  },
  {
   "cell_type": "code",
   "execution_count": 483,
   "id": "f0302470-bd72-4cfd-a7d1-5321024ffa7a",
   "metadata": {},
   "outputs": [],
   "source": [
    "df = pd.read_csv(\"C:\\\\Users\\\\Dell\\\\Microsoft\\\\startupfunding\\\\startup_funding.csv\", encoding='utf-8')"
   ]
  },
  {
   "cell_type": "code",
   "execution_count": 484,
   "id": "3dc06f29-dcae-4455-9089-ec9670ddd43f",
   "metadata": {},
   "outputs": [
    {
     "name": "stdout",
     "output_type": "stream",
     "text": [
      "First 5 rows of data:\n"
     ]
    },
    {
     "data": {
      "text/html": [
       "<div>\n",
       "<style scoped>\n",
       "    .dataframe tbody tr th:only-of-type {\n",
       "        vertical-align: middle;\n",
       "    }\n",
       "\n",
       "    .dataframe tbody tr th {\n",
       "        vertical-align: top;\n",
       "    }\n",
       "\n",
       "    .dataframe thead th {\n",
       "        text-align: right;\n",
       "    }\n",
       "</style>\n",
       "<table border=\"1\" class=\"dataframe\">\n",
       "  <thead>\n",
       "    <tr style=\"text-align: right;\">\n",
       "      <th></th>\n",
       "      <th>Sr No</th>\n",
       "      <th>Date dd/mm/yyyy</th>\n",
       "      <th>Startup Name</th>\n",
       "      <th>Industry Vertical</th>\n",
       "      <th>SubVertical</th>\n",
       "      <th>City  Location</th>\n",
       "      <th>Investors Name</th>\n",
       "      <th>InvestmentnType</th>\n",
       "      <th>Amount in USD</th>\n",
       "      <th>Remarks</th>\n",
       "    </tr>\n",
       "  </thead>\n",
       "  <tbody>\n",
       "    <tr>\n",
       "      <th>0</th>\n",
       "      <td>1</td>\n",
       "      <td>09/01/2020</td>\n",
       "      <td>BYJU’S</td>\n",
       "      <td>E-Tech</td>\n",
       "      <td>E-learning</td>\n",
       "      <td>Bengaluru</td>\n",
       "      <td>Tiger Global Management</td>\n",
       "      <td>Private Equity Round</td>\n",
       "      <td>20,00,00,000</td>\n",
       "      <td>NaN</td>\n",
       "    </tr>\n",
       "    <tr>\n",
       "      <th>1</th>\n",
       "      <td>2</td>\n",
       "      <td>13/01/2020</td>\n",
       "      <td>Shuttl</td>\n",
       "      <td>Transportation</td>\n",
       "      <td>App based shuttle service</td>\n",
       "      <td>Gurgaon</td>\n",
       "      <td>Susquehanna Growth Equity</td>\n",
       "      <td>Series C</td>\n",
       "      <td>80,48,394</td>\n",
       "      <td>NaN</td>\n",
       "    </tr>\n",
       "    <tr>\n",
       "      <th>2</th>\n",
       "      <td>3</td>\n",
       "      <td>09/01/2020</td>\n",
       "      <td>Mamaearth</td>\n",
       "      <td>E-commerce</td>\n",
       "      <td>Retailer of baby and toddler products</td>\n",
       "      <td>Bengaluru</td>\n",
       "      <td>Sequoia Capital India</td>\n",
       "      <td>Series B</td>\n",
       "      <td>1,83,58,860</td>\n",
       "      <td>NaN</td>\n",
       "    </tr>\n",
       "    <tr>\n",
       "      <th>3</th>\n",
       "      <td>4</td>\n",
       "      <td>02/01/2020</td>\n",
       "      <td>https://www.wealthbucket.in/</td>\n",
       "      <td>FinTech</td>\n",
       "      <td>Online Investment</td>\n",
       "      <td>New Delhi</td>\n",
       "      <td>Vinod Khatumal</td>\n",
       "      <td>Pre-series A</td>\n",
       "      <td>30,00,000</td>\n",
       "      <td>NaN</td>\n",
       "    </tr>\n",
       "    <tr>\n",
       "      <th>4</th>\n",
       "      <td>5</td>\n",
       "      <td>02/01/2020</td>\n",
       "      <td>Fashor</td>\n",
       "      <td>Fashion and Apparel</td>\n",
       "      <td>Embroiled Clothes For Women</td>\n",
       "      <td>Mumbai</td>\n",
       "      <td>Sprout Venture Partners</td>\n",
       "      <td>Seed Round</td>\n",
       "      <td>18,00,000</td>\n",
       "      <td>NaN</td>\n",
       "    </tr>\n",
       "  </tbody>\n",
       "</table>\n",
       "</div>"
      ],
      "text/plain": [
       "   Sr No Date dd/mm/yyyy                  Startup Name    Industry Vertical  \\\n",
       "0      1      09/01/2020                        BYJU’S               E-Tech   \n",
       "1      2      13/01/2020                        Shuttl       Transportation   \n",
       "2      3      09/01/2020                     Mamaearth           E-commerce   \n",
       "3      4      02/01/2020  https://www.wealthbucket.in/              FinTech   \n",
       "4      5      02/01/2020                        Fashor  Fashion and Apparel   \n",
       "\n",
       "                             SubVertical City  Location  \\\n",
       "0                             E-learning      Bengaluru   \n",
       "1              App based shuttle service        Gurgaon   \n",
       "2  Retailer of baby and toddler products      Bengaluru   \n",
       "3                      Online Investment      New Delhi   \n",
       "4            Embroiled Clothes For Women         Mumbai   \n",
       "\n",
       "              Investors Name       InvestmentnType Amount in USD Remarks  \n",
       "0    Tiger Global Management  Private Equity Round  20,00,00,000     NaN  \n",
       "1  Susquehanna Growth Equity              Series C     80,48,394     NaN  \n",
       "2      Sequoia Capital India              Series B   1,83,58,860     NaN  \n",
       "3             Vinod Khatumal          Pre-series A     30,00,000     NaN  \n",
       "4    Sprout Venture Partners            Seed Round     18,00,000     NaN  "
      ]
     },
     "metadata": {},
     "output_type": "display_data"
    }
   ],
   "source": [
    "print(\"First 5 rows of data:\")\n",
    "display(df.head())"
   ]
  },
  {
   "cell_type": "code",
   "execution_count": 485,
   "id": "e3da765f-129d-44a3-8f68-d17c51febb50",
   "metadata": {},
   "outputs": [
    {
     "name": "stdout",
     "output_type": "stream",
     "text": [
      "\n",
      "Data Info:\n",
      "<class 'pandas.core.frame.DataFrame'>\n",
      "RangeIndex: 3044 entries, 0 to 3043\n",
      "Data columns (total 10 columns):\n",
      " #   Column             Non-Null Count  Dtype \n",
      "---  ------             --------------  ----- \n",
      " 0   Sr No              3044 non-null   int64 \n",
      " 1   Date dd/mm/yyyy    3044 non-null   object\n",
      " 2   Startup Name       3044 non-null   object\n",
      " 3   Industry Vertical  2873 non-null   object\n",
      " 4   SubVertical        2108 non-null   object\n",
      " 5   City  Location     2864 non-null   object\n",
      " 6   Investors Name     3020 non-null   object\n",
      " 7   InvestmentnType    3040 non-null   object\n",
      " 8   Amount in USD      2084 non-null   object\n",
      " 9   Remarks            419 non-null    object\n",
      "dtypes: int64(1), object(9)\n",
      "memory usage: 237.9+ KB\n"
     ]
    }
   ],
   "source": [
    "print(\"\\nData Info:\")\n",
    "df.info()"
   ]
  },
  {
   "cell_type": "code",
   "execution_count": 486,
   "id": "b25a939e-6edb-4252-abb4-f466d1fc9cea",
   "metadata": {},
   "outputs": [
    {
     "name": "stdout",
     "output_type": "stream",
     "text": [
      "\n",
      "Data has 3044 rows and 10 columns.\n"
     ]
    }
   ],
   "source": [
    "print(f\"\\nData has {df.shape[0]} rows and {df.shape[1]} columns.\")"
   ]
  },
  {
   "cell_type": "code",
   "execution_count": 487,
   "id": "90af6901-c4be-4dee-ae66-d1b5d6862063",
   "metadata": {},
   "outputs": [],
   "source": [
    " #Fix column names\n",
    "df.columns =df.columns.str.strip().str.replace(' ', '_').str.replace('/', '_')"
   ]
  },
  {
   "cell_type": "code",
   "execution_count": 488,
   "id": "dff713f0-596a-4a5b-b2eb-2a4f5617ea3e",
   "metadata": {},
   "outputs": [
    {
     "name": "stdout",
     "output_type": "stream",
     "text": [
      "['Sr_No', 'Date_dd_mm_yyyy', 'Startup_Name', 'Industry_Vertical', 'SubVertical', 'City__Location', 'Investors_Name', 'InvestmentnType', 'Amount_in_USD', 'Remarks']\n"
     ]
    }
   ],
   "source": [
    "#check column names \n",
    "print(df.columns.tolist())"
   ]
  },
  {
   "cell_type": "code",
   "execution_count": 489,
   "id": "679de8d9-e708-4796-90d2-c58d246c678e",
   "metadata": {},
   "outputs": [],
   "source": [
    "df['Date_dd_mm_yyyy'] = df['Date_dd_mm_yyyy'].astype(str)"
   ]
  },
  {
   "cell_type": "code",
   "execution_count": 490,
   "id": "42388863-0a93-42a0-9e6b-f108ead453ba",
   "metadata": {},
   "outputs": [],
   "source": [
    "df['Date_dd_mm_yyyy'] = df['Date_dd_mm_yyyy'].str.replace('.', '/', regex=False)"
   ]
  },
  {
   "cell_type": "code",
   "execution_count": 491,
   "id": "cc985f32-79c5-4194-9271-4bbd82a2bcaf",
   "metadata": {},
   "outputs": [],
   "source": [
    "df['Date_dd_mm_yyyy'] = df['Date_dd_mm_yyyy'].str.replace('//', '/', regex=False)"
   ]
  },
  {
   "cell_type": "code",
   "execution_count": 492,
   "id": "a29e4a7f-ad8a-4311-8eac-05aea2f8620a",
   "metadata": {},
   "outputs": [],
   "source": [
    "df['Date_dd_mm_yyyy'] = df['Date_dd_mm_yyyy'].str.replace('\\\\xc2\\\\xa0', '', regex=False)\n",
    "df['Date_dd_mm_yyyy'] = df['Date_dd_mm_yyyy'].str.replace('\\\\xa0', '', regex=False)\n",
    "df['Date_dd_mm_yyyy'] = df['Date_dd_mm_yyyy'].str.strip()\n",
    "df['Date_dd_mm_yyyy'] = df['Date_dd_mm_yyyy'].replace(['nan', ''], pd.NA)\n",
    "\n"
   ]
  },
  {
   "cell_type": "code",
   "execution_count": 493,
   "id": "29567ba6-8c35-4376-ab4c-c7450bf74a39",
   "metadata": {},
   "outputs": [],
   "source": [
    "df['Original_Date'] = df['Date_dd_mm_yyyy'].copy()\n",
    "df['Date_dd_mm_yyyy'] = pd.to_datetime(df['Date_dd_mm_yyyy'], errors='coerce', dayfirst=True)\n"
   ]
  },
  {
   "cell_type": "code",
   "execution_count": 494,
   "id": "501e8108-0f80-43cb-a60a-7c048c5a4eaf",
   "metadata": {},
   "outputs": [
    {
     "name": "stdout",
     "output_type": "stream",
     "text": [
      "Remaining invalid dates after conversion:\n",
      "      Sr_No Date_dd_mm_yyyy                  Startup_Name    Original_Date\n",
      "192     193             NaT                      Loan Tap        05/072018\n",
      "2571   2572             NaT                     HandyHome        01/07/015\n",
      "2606   2607             NaT  \\\\xc2\\\\xa0Infinity Assurance  \\\\xc2\\10/7/2015\n"
     ]
    }
   ],
   "source": [
    "invalid_dates = df[df['Date_dd_mm_yyyy'].isna()][['Sr_No', 'Date_dd_mm_yyyy', 'Startup_Name', 'Original_Date']]\n",
    "print(\"Remaining invalid dates after conversion:\")\n",
    "print(invalid_dates)\n"
   ]
  },
  {
   "cell_type": "code",
   "execution_count": 495,
   "id": "99d50378-7d65-4987-b78a-c199c59e41dc",
   "metadata": {},
   "outputs": [],
   "source": [
    "def clean_date(original_date):\n",
    "    if pd.isna(original_date) or original_date == 'nan':\n",
    "        return pd.NaT\n",
    "    date_str = str(original_date).strip()\n",
    "    date_str = date_str.replace('.', '/')\n",
    "    date_str = date_str.replace('//', '/')\n",
    "    date_str = date_str.replace('\\xc2\\xa0', '').replace('\\xa0', '')\n",
    "    try:\n",
    "        return pd.to_datetime(date_str, dayfirst=True)\n",
    "    except ValueError:\n",
    "        return pd.NaT\n",
    "\n",
    "df.loc[df['Date_dd_mm_yyyy'].isna(), 'Date_dd_mm_yyyy'] = df.loc[df['Date_dd_mm_yyyy'].isna(), 'Original_Date'].apply(clean_date)\n"
   ]
  },
  {
   "cell_type": "code",
   "execution_count": 496,
   "id": "389bac29-3da8-45e3-9928-c22e76b6c4bb",
   "metadata": {},
   "outputs": [],
   "source": [
    "df.loc[df['Sr_No'] == 193, 'Date_dd_mm_yyyy'] = pd.to_datetime('05/07/2018', dayfirst=True)\n"
   ]
  },
  {
   "cell_type": "code",
   "execution_count": 497,
   "id": "9deedb71-dc00-4b92-a49d-b888ef9008ec",
   "metadata": {},
   "outputs": [],
   "source": [
    "df.loc[df['Sr_No'] == 2572, 'Date_dd_mm_yyyy'] = pd.to_datetime('01/07/2015', dayfirst=True)"
   ]
  },
  {
   "cell_type": "code",
   "execution_count": 498,
   "id": "a23e3d3c-371d-49d7-8e44-bb047603a5ac",
   "metadata": {},
   "outputs": [],
   "source": [
    "df.loc[df['Sr_No'] == 2607, 'Date_dd_mm_yyyy'] = pd.to_datetime('10/07/2015', dayfirst=True)"
   ]
  },
  {
   "cell_type": "code",
   "execution_count": 499,
   "id": "746c3184-cc50-4747-b72a-12f9ba36bc6a",
   "metadata": {},
   "outputs": [
    {
     "name": "stdout",
     "output_type": "stream",
     "text": [
      "Remaining invalid dates after conversion:\n",
      "Empty DataFrame\n",
      "Columns: [Sr_No, Date_dd_mm_yyyy, Startup_Name, Original_Date]\n",
      "Index: []\n"
     ]
    }
   ],
   "source": [
    "invalid_dates = df[df['Date_dd_mm_yyyy'].isna()][['Sr_No', 'Date_dd_mm_yyyy', 'Startup_Name', 'Original_Date']]\n",
    "print(\"Remaining invalid dates after conversion:\")\n",
    "print(invalid_dates)"
   ]
  },
  {
   "cell_type": "code",
   "execution_count": 500,
   "id": "fa270cef-d3cc-4c92-827f-a8aad0cf3b17",
   "metadata": {},
   "outputs": [
    {
     "data": {
      "text/plain": [
       "Sr_No                                                 2572\n",
       "Date_dd_mm_yyyy                        2015-07-01 00:00:00\n",
       "Startup_Name                                     HandyHome\n",
       "Industry_Vertical    Hyperlocal Electronics repair Service\n",
       "SubVertical                                            NaN\n",
       "City__Location                                      Mumbai\n",
       "Investors_Name              Bessemer Ventures, Kae Capital\n",
       "InvestmentnType                               Seed Funding\n",
       "Amount_in_USD                                     6,30,000\n",
       "Remarks                                                NaN\n",
       "Original_Date                                    01/07/015\n",
       "Name: 2571, dtype: object"
      ]
     },
     "execution_count": 500,
     "metadata": {},
     "output_type": "execute_result"
    }
   ],
   "source": [
    "df.iloc[2571]"
   ]
  },
  {
   "cell_type": "code",
   "execution_count": 501,
   "id": "de47dcce-f6c2-4d34-a6e9-18ef689be81e",
   "metadata": {},
   "outputs": [],
   "source": [
    "df['Startup_Name'] = df['Startup_Name'].astype(str)"
   ]
  },
  {
   "cell_type": "code",
   "execution_count": 502,
   "id": "b25f73c9-0c56-4ee2-9699-554f0d4185cf",
   "metadata": {},
   "outputs": [],
   "source": [
    "df['Startup_Name'] = df['Startup_Name'].str.replace('\\\\xa0', '', regex=False)\n",
    "df['Startup_Name'] = df['Startup_Name'].str.replace('\\\\xc2', '', regex=False)\n",
    "df['Startup_Name'] = df['Startup_Name'].str.replace('\\\\', '', regex=False)\n",
    "df['Startup_Name'] = df['Startup_Name'].str.replace('\\\\xe2', '', regex=False)\n",
    "df['Startup_Name'] = df['Startup_Name'].str.replace('\\\\x80', '', regex=False)\n",
    "df['Startup_Name'] = df['Startup_Name'].str.replace('\\\\x99s', '', regex=False)\n",
    "df['Startup_Name'] = df['Startup_Name'].str.replace('xe2x80x99s', '', regex=False)\n",
    "df['Startup_Name'] = df['Startup_Name'].str.replace('\"', '', regex=False)\n",
    "df['Startup_Name'] = df['Startup_Name'].str.strip().str.title()\n",
    "df['Startup_Name'] = df['Startup_Name'].replace('nan', pd.NA)"
   ]
  },
  {
   "cell_type": "code",
   "execution_count": 503,
   "id": "a7491a44-8e14-40c9-8256-f8cda80f474e",
   "metadata": {
    "scrolled": true
   },
   "outputs": [
    {
     "data": {
      "text/plain": [
       "Sr_No                                145\n",
       "Date_dd_mm_yyyy      2018-10-01 00:00:00\n",
       "Startup_Name                   Northmist\n",
       "Industry_Vertical                Fashion\n",
       "SubVertical                    Mens Wear\n",
       "City__Location                     Delhi\n",
       "Investors_Name          Prashant Jaiswal\n",
       "InvestmentnType      Seed/ Angel Funding\n",
       "Amount_in_USD                        NaN\n",
       "Remarks                              NaN\n",
       "Original_Date                 01/10/2018\n",
       "Name: 144, dtype: object"
      ]
     },
     "execution_count": 503,
     "metadata": {},
     "output_type": "execute_result"
    }
   ],
   "source": [
    "df.iloc[144]"
   ]
  },
  {
   "cell_type": "code",
   "execution_count": 504,
   "id": "8fdad5d4-430b-4d09-8f5d-17d97d4efdea",
   "metadata": {},
   "outputs": [],
   "source": [
    "df['Industry_Vertical'] = df['Industry_Vertical'].astype(str)"
   ]
  },
  {
   "cell_type": "code",
   "execution_count": 505,
   "id": "b9327350-4860-4dc0-a4cf-a505b3ef786e",
   "metadata": {},
   "outputs": [],
   "source": [
    "df['Industry_Vertical'] = df['Industry_Vertical'].str.replace('\\\\xa0', '', regex=False)\n",
    "df['Industry_Vertical'] = df['Industry_Vertical'].str.replace('\\\\xc2', '', regex=False)\n",
    "df['Industry_Vertical'] = df['Industry_Vertical'].str.replace('\\\\', '', regex=False)\n",
    "df['Industry_Vertical'] = df['Industry_Vertical'].str.strip().str.title()\n",
    "df['Industry_Vertical'] = df['Industry_Vertical'].replace('nan', pd.NA)"
   ]
  },
  {
   "cell_type": "code",
   "execution_count": 506,
   "id": "d5b51f05-fc65-4e0a-b283-48fadf6560df",
   "metadata": {},
   "outputs": [],
   "source": [
    "df['SubVertical'] = df['SubVertical'].astype(str)"
   ]
  },
  {
   "cell_type": "code",
   "execution_count": 507,
   "id": "ab7b0625-f48e-4929-aebb-bb3f0cbfc14f",
   "metadata": {},
   "outputs": [],
   "source": [
    "df['SubVertical'] = df['SubVertical'].str.replace('\\\\xa0', '', regex=False)\n",
    "df['SubVertical'] = df['SubVertical'].str.replace('\\\\xc2', '', regex=False)\n",
    "df['SubVertical'] = df['SubVertical'].str.replace('\\\\', '', regex=False)\n",
    "df['SubVertical'] = df['SubVertical'].str.replace('\\\\n', '', regex=False)\n",
    "df['SubVertical'] = df['SubVertical'].str.replace('\"', '', regex=False)\n",
    "df['SubVertical'] = df['SubVertical'].str.strip().str.title()\n",
    "df['SubVertical'] = df['SubVertical'].replace('nan', pd.NA)"
   ]
  },
  {
   "cell_type": "code",
   "execution_count": 508,
   "id": "d5ca8cf6-9676-437c-a7e0-934e0553059b",
   "metadata": {},
   "outputs": [],
   "source": [
    "df['City__Location'] = df['City__Location'].astype(str)"
   ]
  },
  {
   "cell_type": "code",
   "execution_count": 509,
   "id": "20f08c6d-b8e6-43bc-b178-9d02eb225703",
   "metadata": {},
   "outputs": [],
   "source": [
    "df['City__Location'] = df['City__Location'].str.replace('\\\\xa0', '', regex=False)\n",
    "df['City__Location'] = df['City__Location'].str.replace('\\\\xc2', '', regex=False)\n",
    "df['City__Location'] = df['City__Location'].str.replace('\\\\', '', regex=False)\n",
    "df['City__Location'] = df['City__Location'].str.title().replace({'bangalore': 'bengaluru', 'gurgaon': 'gurugram','ahemadabad':'ahmedabad','ahemdabad':'ahmedabad','bhubneswar':'bhubaneswar','kolkatta':'kolkata'})"
   ]
  },
  {
   "cell_type": "code",
   "execution_count": 515,
   "id": "6d0277bd-693e-4f3d-9115-379acbd56b8f",
   "metadata": {},
   "outputs": [],
   "source": [
    "df['City__Location'] = df['City__Location'].replace(r'^\\s*$', 'NA', regex=True).fillna('NA')"
   ]
  },
  {
   "cell_type": "code",
   "execution_count": 516,
   "id": "c4449e26-7e36-4ad0-9a58-bc7df48de966",
   "metadata": {},
   "outputs": [
    {
     "name": "stdout",
     "output_type": "stream",
     "text": [
      "First 5 rows of data:\n"
     ]
    },
    {
     "data": {
      "text/html": [
       "<div>\n",
       "<style scoped>\n",
       "    .dataframe tbody tr th:only-of-type {\n",
       "        vertical-align: middle;\n",
       "    }\n",
       "\n",
       "    .dataframe tbody tr th {\n",
       "        vertical-align: top;\n",
       "    }\n",
       "\n",
       "    .dataframe thead th {\n",
       "        text-align: right;\n",
       "    }\n",
       "</style>\n",
       "<table border=\"1\" class=\"dataframe\">\n",
       "  <thead>\n",
       "    <tr style=\"text-align: right;\">\n",
       "      <th></th>\n",
       "      <th>Sr_No</th>\n",
       "      <th>Date_dd_mm_yyyy</th>\n",
       "      <th>Startup_Name</th>\n",
       "      <th>Industry_Vertical</th>\n",
       "      <th>SubVertical</th>\n",
       "      <th>City__Location</th>\n",
       "      <th>Investors_Name</th>\n",
       "      <th>InvestmentnType</th>\n",
       "      <th>Amount_in_USD</th>\n",
       "      <th>Remarks</th>\n",
       "      <th>Original_Date</th>\n",
       "    </tr>\n",
       "  </thead>\n",
       "  <tbody>\n",
       "    <tr>\n",
       "      <th>0</th>\n",
       "      <td>1</td>\n",
       "      <td>2020-01-09</td>\n",
       "      <td>Byju’S</td>\n",
       "      <td>E-Tech</td>\n",
       "      <td>E-Learning</td>\n",
       "      <td>Bengaluru</td>\n",
       "      <td>Tiger Global Management</td>\n",
       "      <td>Private Equity Round</td>\n",
       "      <td>20,00,00,000</td>\n",
       "      <td>NaN</td>\n",
       "      <td>09/01/2020</td>\n",
       "    </tr>\n",
       "    <tr>\n",
       "      <th>1</th>\n",
       "      <td>2</td>\n",
       "      <td>2020-01-13</td>\n",
       "      <td>Shuttl</td>\n",
       "      <td>Transportation</td>\n",
       "      <td>App Based Shuttle Service</td>\n",
       "      <td>Gurgaon</td>\n",
       "      <td>Susquehanna Growth Equity</td>\n",
       "      <td>Series C</td>\n",
       "      <td>80,48,394</td>\n",
       "      <td>NaN</td>\n",
       "      <td>13/01/2020</td>\n",
       "    </tr>\n",
       "    <tr>\n",
       "      <th>2</th>\n",
       "      <td>3</td>\n",
       "      <td>2020-01-09</td>\n",
       "      <td>Mamaearth</td>\n",
       "      <td>E-Commerce</td>\n",
       "      <td>Retailer Of Baby And Toddler Products</td>\n",
       "      <td>Bengaluru</td>\n",
       "      <td>Sequoia Capital India</td>\n",
       "      <td>Series B</td>\n",
       "      <td>1,83,58,860</td>\n",
       "      <td>NaN</td>\n",
       "      <td>09/01/2020</td>\n",
       "    </tr>\n",
       "    <tr>\n",
       "      <th>3</th>\n",
       "      <td>4</td>\n",
       "      <td>2020-01-02</td>\n",
       "      <td>Https://Www.Wealthbucket.In/</td>\n",
       "      <td>Fintech</td>\n",
       "      <td>Online Investment</td>\n",
       "      <td>New Delhi</td>\n",
       "      <td>Vinod Khatumal</td>\n",
       "      <td>Pre-series A</td>\n",
       "      <td>30,00,000</td>\n",
       "      <td>NaN</td>\n",
       "      <td>02/01/2020</td>\n",
       "    </tr>\n",
       "    <tr>\n",
       "      <th>4</th>\n",
       "      <td>5</td>\n",
       "      <td>2020-01-02</td>\n",
       "      <td>Fashor</td>\n",
       "      <td>Fashion And Apparel</td>\n",
       "      <td>Embroiled Clothes For Women</td>\n",
       "      <td>Mumbai</td>\n",
       "      <td>Sprout Venture Partners</td>\n",
       "      <td>Seed Round</td>\n",
       "      <td>18,00,000</td>\n",
       "      <td>NaN</td>\n",
       "      <td>02/01/2020</td>\n",
       "    </tr>\n",
       "  </tbody>\n",
       "</table>\n",
       "</div>"
      ],
      "text/plain": [
       "   Sr_No Date_dd_mm_yyyy                  Startup_Name    Industry_Vertical  \\\n",
       "0      1      2020-01-09                        Byju’S               E-Tech   \n",
       "1      2      2020-01-13                        Shuttl       Transportation   \n",
       "2      3      2020-01-09                     Mamaearth           E-Commerce   \n",
       "3      4      2020-01-02  Https://Www.Wealthbucket.In/              Fintech   \n",
       "4      5      2020-01-02                        Fashor  Fashion And Apparel   \n",
       "\n",
       "                             SubVertical City__Location  \\\n",
       "0                             E-Learning      Bengaluru   \n",
       "1              App Based Shuttle Service        Gurgaon   \n",
       "2  Retailer Of Baby And Toddler Products      Bengaluru   \n",
       "3                      Online Investment      New Delhi   \n",
       "4            Embroiled Clothes For Women         Mumbai   \n",
       "\n",
       "              Investors_Name       InvestmentnType Amount_in_USD Remarks  \\\n",
       "0    Tiger Global Management  Private Equity Round  20,00,00,000     NaN   \n",
       "1  Susquehanna Growth Equity              Series C     80,48,394     NaN   \n",
       "2      Sequoia Capital India              Series B   1,83,58,860     NaN   \n",
       "3             Vinod Khatumal          Pre-series A     30,00,000     NaN   \n",
       "4    Sprout Venture Partners            Seed Round     18,00,000     NaN   \n",
       "\n",
       "  Original_Date  \n",
       "0    09/01/2020  \n",
       "1    13/01/2020  \n",
       "2    09/01/2020  \n",
       "3    02/01/2020  \n",
       "4    02/01/2020  "
      ]
     },
     "metadata": {},
     "output_type": "display_data"
    }
   ],
   "source": [
    "print(\"First 5 rows of data:\")\n",
    "display(df.head())"
   ]
  },
  {
   "cell_type": "code",
   "execution_count": 517,
   "id": "645972ed-b7cc-4e7d-8f57-6400471ac055",
   "metadata": {},
   "outputs": [],
   "source": [
    "df['Investors_Name'] = df['Investors_Name'].astype(str)"
   ]
  },
  {
   "cell_type": "code",
   "execution_count": 518,
   "id": "4fab597a-8da2-4905-ba98-5d65a4a41560",
   "metadata": {},
   "outputs": [],
   "source": [
    "df['Investors_Name'] = df['Investors_Name'].str.replace('\\\\xa0', '', regex=False)\n",
    "df['Investors_Name'] = df['Investors_Name'].str.replace('\\\\xc2', '', regex=False)\n",
    "df['Investors_Name'] = df['Investors_Name'].str.replace('\\\\', '', regex=False)\n",
    "df['Investors_Name'] = df['Investors_Name'].str.replace('\"', '', regex=False)\n",
    "df['Investors_Name'] = df['Investors_Name'].str.replace(\"'\", '', regex=False)\n",
    "df['Investors_Name'] = df['Investors_Name'].str.strip().str.title()\n",
    "df['Investors_Name'] = df['Investors_Name'].replace('nan', pd.NA)"
   ]
  },
  {
   "cell_type": "code",
   "execution_count": 519,
   "id": "ef2693b6-68f9-4e43-9ea6-f395a1eb29cc",
   "metadata": {},
   "outputs": [],
   "source": [
    "df['Investors_Name'] = df['Investors_Name'].replace(r'^\\s*$', 'NA', regex=True).fillna('NA')"
   ]
  },
  {
   "cell_type": "code",
   "execution_count": 520,
   "id": "30b12393-3cb6-4c06-87eb-e4516bc9a439",
   "metadata": {},
   "outputs": [],
   "source": [
    "df['InvestmentnType'] = df['InvestmentnType'].astype(str)"
   ]
  },
  {
   "cell_type": "code",
   "execution_count": 521,
   "id": "a43e0a61-fecf-4b8c-8421-ccc9d762cf00",
   "metadata": {},
   "outputs": [],
   "source": [
    "df['InvestmentnType'] = df['InvestmentnType'].replace(r'^\\s*$', 'NA', regex=True).fillna('NA')"
   ]
  },
  {
   "cell_type": "code",
   "execution_count": 522,
   "id": "c6b2ed1d-f961-4f7a-84a8-b2d8eee39464",
   "metadata": {},
   "outputs": [],
   "source": [
    "df['Amount_in_USD'] = df['Amount_in_USD'].astype(str)"
   ]
  },
  {
   "cell_type": "code",
   "execution_count": 523,
   "id": "fb932f77-cbfe-4dfc-8466-f80927b65383",
   "metadata": {},
   "outputs": [],
   "source": [
    "df['Amount_in_USD'] = df['Amount_in_USD'].str.replace('\\\\xa0', '', regex=False)\n",
    "df['Amount_in_USD'] = df['Amount_in_USD'].str.replace('\\\\xc2', '', regex=False)\n",
    "df['Amount_in_USD'] = df['Amount_in_USD'].str.replace('\\\\', '', regex=False)\n",
    "df['Amount_in_USD'] = df['Amount_in_USD'].str.replace(',', '', regex=False)"
   ]
  },
  {
   "cell_type": "code",
   "execution_count": 524,
   "id": "483d8d34-5f0a-4235-bbbf-932e6f9351e5",
   "metadata": {},
   "outputs": [],
   "source": [
    "df['Amount_in_USD'] = df['Amount_in_USD'].str.title().replace({'Undisclosed': 'NA', 'Unknown': 'NA','undisclosed': 'NA'})"
   ]
  },
  {
   "cell_type": "code",
   "execution_count": 525,
   "id": "a03c95a9-bc91-4044-8ff6-0a3e130671a8",
   "metadata": {},
   "outputs": [],
   "source": [
    "df['Amount_in_USD'] = df['Amount_in_USD'].str.title().replace({'Na':'Undisclosed','<Na>':'Undisclosed'})"
   ]
  },
  {
   "cell_type": "code",
   "execution_count": 526,
   "id": "c0a4c987-edd3-4e8d-8604-08df14fce13d",
   "metadata": {},
   "outputs": [],
   "source": [
    "df['Amount_in_USD'] = df['Amount_in_USD'].replace(['Undisclosed', 'Unknown', ''], pd.NA)  # Replace invalid entries\n",
    "df['Amount_in_USD'] = pd.to_numeric(df['Amount_in_USD'], errors='coerce')  # Convert to float64\n",
    "df['Amount_in_USD'] = df['Amount_in_USD'].fillna(0)  # Replace NaN with 0"
   ]
  },
  {
   "cell_type": "code",
   "execution_count": 527,
   "id": "4862796a-9742-4b58-8a09-612df94a364a",
   "metadata": {},
   "outputs": [],
   "source": [
    "df = df.drop(columns=['Original_Date'])"
   ]
  },
  {
   "cell_type": "code",
   "execution_count": 528,
   "id": "c46c365a-2611-4a87-8a35-9369b246d265",
   "metadata": {},
   "outputs": [
    {
     "name": "stdout",
     "output_type": "stream",
     "text": [
      "<class 'pandas.core.frame.DataFrame'>\n",
      "RangeIndex: 3044 entries, 0 to 3043\n",
      "Data columns (total 10 columns):\n",
      " #   Column             Non-Null Count  Dtype         \n",
      "---  ------             --------------  -----         \n",
      " 0   Sr_No              3044 non-null   int64         \n",
      " 1   Date_dd_mm_yyyy    3044 non-null   datetime64[ns]\n",
      " 2   Startup_Name       3044 non-null   object        \n",
      " 3   Industry_Vertical  3044 non-null   object        \n",
      " 4   SubVertical        3044 non-null   object        \n",
      " 5   City__Location     3044 non-null   object        \n",
      " 6   Investors_Name     3044 non-null   object        \n",
      " 7   InvestmentnType    3044 non-null   object        \n",
      " 8   Amount_in_USD      3044 non-null   float64       \n",
      " 9   Remarks            419 non-null    object        \n",
      "dtypes: datetime64[ns](1), float64(1), int64(1), object(7)\n",
      "memory usage: 237.9+ KB\n"
     ]
    }
   ],
   "source": [
    "df.info()"
   ]
  },
  {
   "cell_type": "code",
   "execution_count": 529,
   "id": "bc301cbe-97c6-45a2-99a3-0d253e1a60e9",
   "metadata": {},
   "outputs": [],
   "source": [
    "df['Year'] = df['Date_dd_mm_yyyy'].dt.year\n",
    "df['Month'] = df['Date_dd_mm_yyyy'].dt.month"
   ]
  },
  {
   "cell_type": "code",
   "execution_count": 530,
   "id": "8321a2e9-66e1-43a4-a92f-ff4fb3b5bfa5",
   "metadata": {},
   "outputs": [],
   "source": [
    "df = df.drop_duplicates()"
   ]
  },
  {
   "cell_type": "code",
   "execution_count": 531,
   "id": "0152dbe5-3488-4af6-b3b6-9ffa3311bee1",
   "metadata": {},
   "outputs": [
    {
     "data": {
      "image/png": "[encoded data removed]",
      "text/plain": [
       "<Figure size 1000x500 with 1 Axes>"
      ]
     },
     "metadata": {},
     "output_type": "display_data"
    }
   ],
   "source": [
    "funding_by_year = df.groupby('Year')['Amount_in_USD'].sum().sort_index()\n",
    "funding_by_year.plot(kind='bar', figsize=(10,5),color =[\"#BB9999\",\"#6BCB77\",\"#EEEEEE\",\"#F4A261\",\"#F7A4A4\",\"#264653\"],title='Total Funding by Year')\n",
    "plt.ylabel('Funding (USD)')\n",
    "plt.show()"
   ]
  },
  {
   "cell_type": "code",
   "execution_count": 532,
   "id": "8274ea9e-b967-412f-9eb8-c8ae9d3c104e",
   "metadata": {},
   "outputs": [
    {
     "data": {
      "image/png": "[encoded data removed]",
      "text/plain": [
       "<Figure size 1000x500 with 1 Axes>"
      ]
     },
     "metadata": {},
     "output_type": "display_data"
    }
   ],
   "source": [
    "top_startups = df.groupby('Startup_Name')['Amount_in_USD'].sum().nlargest(10)\n",
    "top_startups.plot(kind='bar', figsize=(10,5),color =[\"#BB9999\",\"#6BCB77\",\"#EEEEEE\",\"#F4A261\",\"#F7A4A4\",\"#264653\",\"#E9C46A\",\"#FFD6A5\",\"#222831\",\"#00ADB5\"],\n",
    "                  title='Top 10 Funded Startups')\n",
    "plt.ylabel('Total Funding (USD)')\n",
    "plt.show()"
   ]
  },
  {
   "cell_type": "code",
   "execution_count": 533,
   "id": "3bfc4113-4120-4fad-bd5c-c1f91cbe6f89",
   "metadata": {},
   "outputs": [
    {
     "name": "stdout",
     "output_type": "stream",
     "text": [
      "\n",
      "Cleaned data saved to 'Cleaned_Startup_Funding.csv'\n"
     ]
    }
   ],
   "source": [
    "df.to_csv('Cleaned_Startup_Funding.csv', index=False)\n",
    "print(\"\\nCleaned data saved to 'Cleaned_Startup_Funding.csv'\")"
   ]
  },
  {
   "cell_type": "code",
   "execution_count": 534,
   "id": "d33b63c6-dded-46ac-9954-12769893e288",
   "metadata": {},
   "outputs": [
    {
     "data": {
      "text/plain": [
       "3044"
      ]
     },
     "execution_count": 534,
     "metadata": {},
     "output_type": "execute_result"
    }
   ],
   "source": [
    "from sqlalchemy import create_engine\n",
    "engine = create_engine('sqlite:///startup_funding.db')\n",
    "df.to_sql('funding', engine, index=False, if_exists='replace')"
   ]
  },
  {
   "cell_type": "code",
   "execution_count": 535,
   "id": "f6e69a2d-22a6-455f-ad40-0f69dbb26cf7",
   "metadata": {},
   "outputs": [],
   "source": [
    "conn = sqlite3.connect('startup_funding.db')\n",
    "cursor = conn.cursor()\n"
   ]
  },
  {
   "cell_type": "code",
   "execution_count": 536,
   "id": "6d501adb-b30d-4ac0-b097-dcc5d1072a6c",
   "metadata": {},
   "outputs": [
    {
     "data": {
      "text/plain": [
       "3044"
      ]
     },
     "execution_count": 536,
     "metadata": {},
     "output_type": "execute_result"
    }
   ],
   "source": [
    "df.to_sql(\"funding\", conn, if_exists=\"replace\", index=False)"
   ]
  },
  {
   "cell_type": "code",
   "execution_count": 537,
   "id": "216fc9f4-b1d8-4256-a80e-fbc85adb06f3",
   "metadata": {},
   "outputs": [
    {
     "name": "stdout",
     "output_type": "stream",
     "text": [
      "   rows\n",
      "0  3044\n"
     ]
    }
   ],
   "source": [
    "print(pd.read_sql(\"SELECT COUNT(*) as rows FROM funding;\", conn))\n"
   ]
  },
  {
   "cell_type": "code",
   "execution_count": 538,
   "id": "51488e12-a2ed-4766-8d85-00eecba2d197",
   "metadata": {},
   "outputs": [
    {
     "data": {
      "text/html": [
       "<div>\n",
       "<style scoped>\n",
       "    .dataframe tbody tr th:only-of-type {\n",
       "        vertical-align: middle;\n",
       "    }\n",
       "\n",
       "    .dataframe tbody tr th {\n",
       "        vertical-align: top;\n",
       "    }\n",
       "\n",
       "    .dataframe thead th {\n",
       "        text-align: right;\n",
       "    }\n",
       "</style>\n",
       "<table border=\"1\" class=\"dataframe\">\n",
       "  <thead>\n",
       "    <tr style=\"text-align: right;\">\n",
       "      <th></th>\n",
       "      <th>Investors_Name</th>\n",
       "      <th>total_rounds</th>\n",
       "      <th>total_funding</th>\n",
       "    </tr>\n",
       "  </thead>\n",
       "  <tbody>\n",
       "    <tr>\n",
       "      <th>0</th>\n",
       "      <td>Westbridge Capital</td>\n",
       "      <td>2</td>\n",
       "      <td>3.952000e+09</td>\n",
       "    </tr>\n",
       "    <tr>\n",
       "      <th>1</th>\n",
       "      <td>Softbank</td>\n",
       "      <td>1</td>\n",
       "      <td>2.500000e+09</td>\n",
       "    </tr>\n",
       "    <tr>\n",
       "      <th>2</th>\n",
       "      <td>Softbank Group</td>\n",
       "      <td>3</td>\n",
       "      <td>1.467000e+09</td>\n",
       "    </tr>\n",
       "    <tr>\n",
       "      <th>3</th>\n",
       "      <td>Microsoft, Ebay, Tencent Holdings</td>\n",
       "      <td>1</td>\n",
       "      <td>1.400000e+09</td>\n",
       "    </tr>\n",
       "    <tr>\n",
       "      <th>4</th>\n",
       "      <td>Vijay Shekhar Sharma</td>\n",
       "      <td>4</td>\n",
       "      <td>1.000150e+09</td>\n",
       "    </tr>\n",
       "    <tr>\n",
       "      <th>5</th>\n",
       "      <td>Steadview Capital And Existing Investors</td>\n",
       "      <td>1</td>\n",
       "      <td>7.000000e+08</td>\n",
       "    </tr>\n",
       "    <tr>\n",
       "      <th>6</th>\n",
       "      <td>Alibaba Group, Ant Financial</td>\n",
       "      <td>1</td>\n",
       "      <td>6.800000e+08</td>\n",
       "    </tr>\n",
       "    <tr>\n",
       "      <th>7</th>\n",
       "      <td>Nan</td>\n",
       "      <td>24</td>\n",
       "      <td>6.241060e+08</td>\n",
       "    </tr>\n",
       "    <tr>\n",
       "      <th>8</th>\n",
       "      <td>Softbank Vision Fund</td>\n",
       "      <td>3</td>\n",
       "      <td>6.010000e+08</td>\n",
       "    </tr>\n",
       "    <tr>\n",
       "      <th>9</th>\n",
       "      <td>Altimeter Capital, Dst Global</td>\n",
       "      <td>1</td>\n",
       "      <td>5.850000e+08</td>\n",
       "    </tr>\n",
       "  </tbody>\n",
       "</table>\n",
       "</div>"
      ],
      "text/plain": [
       "                             Investors_Name  total_rounds  total_funding\n",
       "0                        Westbridge Capital             2   3.952000e+09\n",
       "1                                  Softbank             1   2.500000e+09\n",
       "2                            Softbank Group             3   1.467000e+09\n",
       "3         Microsoft, Ebay, Tencent Holdings             1   1.400000e+09\n",
       "4                      Vijay Shekhar Sharma             4   1.000150e+09\n",
       "5  Steadview Capital And Existing Investors             1   7.000000e+08\n",
       "6              Alibaba Group, Ant Financial             1   6.800000e+08\n",
       "7                                       Nan            24   6.241060e+08\n",
       "8                      Softbank Vision Fund             3   6.010000e+08\n",
       "9             Altimeter Capital, Dst Global             1   5.850000e+08"
      ]
     },
     "execution_count": 538,
     "metadata": {},
     "output_type": "execute_result"
    }
   ],
   "source": [
    "query1 = \"\"\"\n",
    "SELECT\n",
    "    Investors_Name,\n",
    "    COUNT(*) AS total_rounds,\n",
    "    SUM(Amount_in_USD) AS total_funding\n",
    "FROM funding\n",
    "WHERE Amount_in_USD IS NOT NULL\n",
    "GROUP BY Investors_Name\n",
    "ORDER BY total_funding DESC\n",
    "LIMIT 10;\n",
    "\"\"\"\n",
    "top_investors = pd.read_sql_query(query1, conn)\n",
    "top_investors\n"
   ]
  },
  {
   "cell_type": "code",
   "execution_count": 539,
   "id": "a41922fa-9f76-44b5-a624-218c190efb72",
   "metadata": {},
   "outputs": [
    {
     "data": {
      "text/html": [
       "<div>\n",
       "<style scoped>\n",
       "    .dataframe tbody tr th:only-of-type {\n",
       "        vertical-align: middle;\n",
       "    }\n",
       "\n",
       "    .dataframe tbody tr th {\n",
       "        vertical-align: top;\n",
       "    }\n",
       "\n",
       "    .dataframe thead th {\n",
       "        text-align: right;\n",
       "    }\n",
       "</style>\n",
       "<table border=\"1\" class=\"dataframe\">\n",
       "  <thead>\n",
       "    <tr style=\"text-align: right;\">\n",
       "      <th></th>\n",
       "      <th>Year</th>\n",
       "      <th>num_rounds</th>\n",
       "      <th>avg_funding_per_round</th>\n",
       "      <th>total_funding</th>\n",
       "    </tr>\n",
       "  </thead>\n",
       "  <tbody>\n",
       "    <tr>\n",
       "      <th>0</th>\n",
       "      <td>2015</td>\n",
       "      <td>936</td>\n",
       "      <td>9266049.54</td>\n",
       "      <td>8.673022e+09</td>\n",
       "    </tr>\n",
       "    <tr>\n",
       "      <th>1</th>\n",
       "      <td>2016</td>\n",
       "      <td>993</td>\n",
       "      <td>3855074.13</td>\n",
       "      <td>3.828089e+09</td>\n",
       "    </tr>\n",
       "    <tr>\n",
       "      <th>2</th>\n",
       "      <td>2017</td>\n",
       "      <td>687</td>\n",
       "      <td>15180945.75</td>\n",
       "      <td>1.042931e+10</td>\n",
       "    </tr>\n",
       "    <tr>\n",
       "      <th>3</th>\n",
       "      <td>2018</td>\n",
       "      <td>310</td>\n",
       "      <td>16523768.93</td>\n",
       "      <td>5.122368e+09</td>\n",
       "    </tr>\n",
       "    <tr>\n",
       "      <th>4</th>\n",
       "      <td>2019</td>\n",
       "      <td>111</td>\n",
       "      <td>87266455.27</td>\n",
       "      <td>9.686577e+09</td>\n",
       "    </tr>\n",
       "    <tr>\n",
       "      <th>5</th>\n",
       "      <td>2020</td>\n",
       "      <td>7</td>\n",
       "      <td>55743893.43</td>\n",
       "      <td>3.902073e+08</td>\n",
       "    </tr>\n",
       "  </tbody>\n",
       "</table>\n",
       "</div>"
      ],
      "text/plain": [
       "   Year  num_rounds  avg_funding_per_round  total_funding\n",
       "0  2015         936             9266049.54   8.673022e+09\n",
       "1  2016         993             3855074.13   3.828089e+09\n",
       "2  2017         687            15180945.75   1.042931e+10\n",
       "3  2018         310            16523768.93   5.122368e+09\n",
       "4  2019         111            87266455.27   9.686577e+09\n",
       "5  2020           7            55743893.43   3.902073e+08"
      ]
     },
     "execution_count": 539,
     "metadata": {},
     "output_type": "execute_result"
    }
   ],
   "source": [
    "query2 = \"\"\"\n",
    "SELECT\n",
    "    Year,\n",
    "    COUNT(*) AS num_rounds,\n",
    "    ROUND(AVG(Amount_in_USD), 2) AS avg_funding_per_round,\n",
    "    SUM(Amount_in_USD) AS total_funding\n",
    "FROM funding\n",
    "WHERE Year IS NOT NULL AND Amount_in_USD IS NOT NULL\n",
    "GROUP BY Year\n",
    "ORDER BY Year;\n",
    "\"\"\"\n",
    "yearly_avg = pd.read_sql_query(query2, conn)\n",
    "yearly_avg"
   ]
  },
  {
   "cell_type": "code",
   "execution_count": 540,
   "id": "b9302052-bcb1-4b3e-b000-bec0af1fa385",
   "metadata": {},
   "outputs": [
    {
     "data": {
      "text/html": [
       "<div>\n",
       "<style scoped>\n",
       "    .dataframe tbody tr th:only-of-type {\n",
       "        vertical-align: middle;\n",
       "    }\n",
       "\n",
       "    .dataframe tbody tr th {\n",
       "        vertical-align: top;\n",
       "    }\n",
       "\n",
       "    .dataframe thead th {\n",
       "        text-align: right;\n",
       "    }\n",
       "</style>\n",
       "<table border=\"1\" class=\"dataframe\">\n",
       "  <thead>\n",
       "    <tr style=\"text-align: right;\">\n",
       "      <th></th>\n",
       "      <th>City</th>\n",
       "      <th>Industry</th>\n",
       "      <th>num_rounds</th>\n",
       "      <th>total_funding</th>\n",
       "    </tr>\n",
       "  </thead>\n",
       "  <tbody>\n",
       "    <tr>\n",
       "      <th>0</th>\n",
       "      <td>Bangalore</td>\n",
       "      <td>Ecommerce</td>\n",
       "      <td>68</td>\n",
       "      <td>6.005765e+09</td>\n",
       "    </tr>\n",
       "    <tr>\n",
       "      <th>1</th>\n",
       "      <td>Bengaluru</td>\n",
       "      <td>Transportation</td>\n",
       "      <td>1</td>\n",
       "      <td>3.900000e+09</td>\n",
       "    </tr>\n",
       "    <tr>\n",
       "      <th>2</th>\n",
       "      <td>Bangalore</td>\n",
       "      <td>Consumer Internet</td>\n",
       "      <td>262</td>\n",
       "      <td>1.793124e+09</td>\n",
       "    </tr>\n",
       "    <tr>\n",
       "      <th>3</th>\n",
       "      <td>Mumbai</td>\n",
       "      <td>Finance</td>\n",
       "      <td>16</td>\n",
       "      <td>1.360000e+09</td>\n",
       "    </tr>\n",
       "    <tr>\n",
       "      <th>4</th>\n",
       "      <td>Mumbai</td>\n",
       "      <td>Consumer Internet</td>\n",
       "      <td>200</td>\n",
       "      <td>1.307540e+09</td>\n",
       "    </tr>\n",
       "    <tr>\n",
       "      <th>5</th>\n",
       "      <td>Nan</td>\n",
       "      <td>Nan</td>\n",
       "      <td>171</td>\n",
       "      <td>1.231811e+09</td>\n",
       "    </tr>\n",
       "    <tr>\n",
       "      <th>6</th>\n",
       "      <td>Gurgaon</td>\n",
       "      <td>Consumer Internet</td>\n",
       "      <td>99</td>\n",
       "      <td>1.094815e+09</td>\n",
       "    </tr>\n",
       "    <tr>\n",
       "      <th>7</th>\n",
       "      <td>Noida</td>\n",
       "      <td>Fintech</td>\n",
       "      <td>1</td>\n",
       "      <td>1.000000e+09</td>\n",
       "    </tr>\n",
       "    <tr>\n",
       "      <th>8</th>\n",
       "      <td>Bangalore</td>\n",
       "      <td>Online Marketplace</td>\n",
       "      <td>1</td>\n",
       "      <td>7.000000e+08</td>\n",
       "    </tr>\n",
       "    <tr>\n",
       "      <th>9</th>\n",
       "      <td>New Delhi</td>\n",
       "      <td>E-Commerce &amp; M-Commerce Platform</td>\n",
       "      <td>1</td>\n",
       "      <td>6.800000e+08</td>\n",
       "    </tr>\n",
       "    <tr>\n",
       "      <th>10</th>\n",
       "      <td>Bengaluru</td>\n",
       "      <td>Consumer Internet</td>\n",
       "      <td>25</td>\n",
       "      <td>6.212450e+08</td>\n",
       "    </tr>\n",
       "    <tr>\n",
       "      <th>11</th>\n",
       "      <td>Mumbai</td>\n",
       "      <td>Technology</td>\n",
       "      <td>80</td>\n",
       "      <td>6.131415e+08</td>\n",
       "    </tr>\n",
       "    <tr>\n",
       "      <th>12</th>\n",
       "      <td>Bengaluru</td>\n",
       "      <td>B2B</td>\n",
       "      <td>1</td>\n",
       "      <td>5.850000e+08</td>\n",
       "    </tr>\n",
       "    <tr>\n",
       "      <th>13</th>\n",
       "      <td>New Delhi</td>\n",
       "      <td>Consumer Internet</td>\n",
       "      <td>143</td>\n",
       "      <td>5.028150e+08</td>\n",
       "    </tr>\n",
       "    <tr>\n",
       "      <th>14</th>\n",
       "      <td>Bangalore</td>\n",
       "      <td>Car Aggregator &amp; Retail Mobile App</td>\n",
       "      <td>1</td>\n",
       "      <td>5.000000e+08</td>\n",
       "    </tr>\n",
       "    <tr>\n",
       "      <th>15</th>\n",
       "      <td>New Delhi</td>\n",
       "      <td>Ecommerce Marketplace</td>\n",
       "      <td>1</td>\n",
       "      <td>5.000000e+08</td>\n",
       "    </tr>\n",
       "    <tr>\n",
       "      <th>16</th>\n",
       "      <td>Menlo Park</td>\n",
       "      <td>Health And Wellness</td>\n",
       "      <td>1</td>\n",
       "      <td>4.500000e+08</td>\n",
       "    </tr>\n",
       "    <tr>\n",
       "      <th>17</th>\n",
       "      <td>Gurugram</td>\n",
       "      <td>Consumer Internet</td>\n",
       "      <td>20</td>\n",
       "      <td>4.087254e+08</td>\n",
       "    </tr>\n",
       "    <tr>\n",
       "      <th>18</th>\n",
       "      <td>Bangalore</td>\n",
       "      <td>Cab Aggregator</td>\n",
       "      <td>1</td>\n",
       "      <td>4.000000e+08</td>\n",
       "    </tr>\n",
       "    <tr>\n",
       "      <th>19</th>\n",
       "      <td>Bangalore</td>\n",
       "      <td>Technology</td>\n",
       "      <td>134</td>\n",
       "      <td>3.635720e+08</td>\n",
       "    </tr>\n",
       "  </tbody>\n",
       "</table>\n",
       "</div>"
      ],
      "text/plain": [
       "          City                            Industry  num_rounds  total_funding\n",
       "0    Bangalore                           Ecommerce          68   6.005765e+09\n",
       "1    Bengaluru                      Transportation           1   3.900000e+09\n",
       "2    Bangalore                   Consumer Internet         262   1.793124e+09\n",
       "3       Mumbai                             Finance          16   1.360000e+09\n",
       "4       Mumbai                   Consumer Internet         200   1.307540e+09\n",
       "5          Nan                                 Nan         171   1.231811e+09\n",
       "6      Gurgaon                   Consumer Internet          99   1.094815e+09\n",
       "7        Noida                             Fintech           1   1.000000e+09\n",
       "8    Bangalore                  Online Marketplace           1   7.000000e+08\n",
       "9    New Delhi    E-Commerce & M-Commerce Platform           1   6.800000e+08\n",
       "10   Bengaluru                   Consumer Internet          25   6.212450e+08\n",
       "11      Mumbai                          Technology          80   6.131415e+08\n",
       "12   Bengaluru                                 B2B           1   5.850000e+08\n",
       "13   New Delhi                   Consumer Internet         143   5.028150e+08\n",
       "14   Bangalore  Car Aggregator & Retail Mobile App           1   5.000000e+08\n",
       "15   New Delhi               Ecommerce Marketplace           1   5.000000e+08\n",
       "16  Menlo Park                 Health And Wellness           1   4.500000e+08\n",
       "17    Gurugram                   Consumer Internet          20   4.087254e+08\n",
       "18   Bangalore                      Cab Aggregator           1   4.000000e+08\n",
       "19   Bangalore                          Technology         134   3.635720e+08"
      ]
     },
     "execution_count": 540,
     "metadata": {},
     "output_type": "execute_result"
    }
   ],
   "source": [
    "query3 = \"\"\"\n",
    "SELECT\n",
    "    City__Location AS City,\n",
    "    Industry_Vertical AS Industry,\n",
    "    COUNT(*) AS num_rounds,\n",
    "    SUM(Amount_in_USD) AS total_funding\n",
    "FROM funding\n",
    "WHERE City__Location IS NOT NULL\n",
    "GROUP BY city, industry\n",
    "ORDER BY total_funding DESC\n",
    "LIMIT 20;\n",
    "\"\"\"\n",
    "city_industry = pd.read_sql_query(query3, conn)\n",
    "city_industry"
   ]
  },
  {
   "cell_type": "code",
   "execution_count": 541,
   "id": "d21d4d41-356a-4001-8a5e-130ed1c44b68",
   "metadata": {},
   "outputs": [
    {
     "name": "stdout",
     "output_type": "stream",
     "text": [
      "<class 'pandas.core.frame.DataFrame'>\n",
      "RangeIndex: 3044 entries, 0 to 3043\n",
      "Data columns (total 12 columns):\n",
      " #   Column             Non-Null Count  Dtype         \n",
      "---  ------             --------------  -----         \n",
      " 0   Sr_No              3044 non-null   int64         \n",
      " 1   Date_dd_mm_yyyy    3044 non-null   datetime64[ns]\n",
      " 2   Startup_Name       3044 non-null   object        \n",
      " 3   Industry_Vertical  3044 non-null   object        \n",
      " 4   SubVertical        3044 non-null   object        \n",
      " 5   City__Location     3044 non-null   object        \n",
      " 6   Investors_Name     3044 non-null   object        \n",
      " 7   InvestmentnType    3044 non-null   object        \n",
      " 8   Amount_in_USD      3044 non-null   float64       \n",
      " 9   Remarks            419 non-null    object        \n",
      " 10  Year               3044 non-null   int32         \n",
      " 11  Month              3044 non-null   int32         \n",
      "dtypes: datetime64[ns](1), float64(1), int32(2), int64(1), object(7)\n",
      "memory usage: 261.7+ KB\n"
     ]
    }
   ],
   "source": [
    "df.info()"
   ]
  },
  {
   "cell_type": "code",
   "execution_count": 542,
   "id": "3e1596d9-9e24-4965-92c3-839e35ea7144",
   "metadata": {},
   "outputs": [
    {
     "data": {
      "text/html": [
       "<div>\n",
       "<style scoped>\n",
       "    .dataframe tbody tr th:only-of-type {\n",
       "        vertical-align: middle;\n",
       "    }\n",
       "\n",
       "    .dataframe tbody tr th {\n",
       "        vertical-align: top;\n",
       "    }\n",
       "\n",
       "    .dataframe thead th {\n",
       "        text-align: right;\n",
       "    }\n",
       "</style>\n",
       "<table border=\"1\" class=\"dataframe\">\n",
       "  <thead>\n",
       "    <tr style=\"text-align: right;\">\n",
       "      <th></th>\n",
       "      <th>Startup_Name</th>\n",
       "      <th>Unique_Investors</th>\n",
       "      <th>total_raised</th>\n",
       "    </tr>\n",
       "  </thead>\n",
       "  <tbody>\n",
       "    <tr>\n",
       "      <th>0</th>\n",
       "      <td>Ola Cabs</td>\n",
       "      <td>8</td>\n",
       "      <td>6.697000e+08</td>\n",
       "    </tr>\n",
       "    <tr>\n",
       "      <th>1</th>\n",
       "      <td>Swiggy</td>\n",
       "      <td>8</td>\n",
       "      <td>2.705000e+08</td>\n",
       "    </tr>\n",
       "    <tr>\n",
       "      <th>2</th>\n",
       "      <td>Paytm</td>\n",
       "      <td>7</td>\n",
       "      <td>3.148950e+09</td>\n",
       "    </tr>\n",
       "    <tr>\n",
       "      <th>3</th>\n",
       "      <td>Blackbuck</td>\n",
       "      <td>6</td>\n",
       "      <td>2.683800e+08</td>\n",
       "    </tr>\n",
       "    <tr>\n",
       "      <th>4</th>\n",
       "      <td>Meesho</td>\n",
       "      <td>6</td>\n",
       "      <td>1.896000e+08</td>\n",
       "    </tr>\n",
       "    <tr>\n",
       "      <th>5</th>\n",
       "      <td>Lendingkart</td>\n",
       "      <td>6</td>\n",
       "      <td>1.461500e+08</td>\n",
       "    </tr>\n",
       "    <tr>\n",
       "      <th>6</th>\n",
       "      <td>Nobroker</td>\n",
       "      <td>6</td>\n",
       "      <td>7.140000e+07</td>\n",
       "    </tr>\n",
       "    <tr>\n",
       "      <th>7</th>\n",
       "      <td>Lenskart</td>\n",
       "      <td>6</td>\n",
       "      <td>6.565000e+07</td>\n",
       "    </tr>\n",
       "    <tr>\n",
       "      <th>8</th>\n",
       "      <td>Urbanclap</td>\n",
       "      <td>6</td>\n",
       "      <td>6.070000e+07</td>\n",
       "    </tr>\n",
       "    <tr>\n",
       "      <th>9</th>\n",
       "      <td>Healthifyme</td>\n",
       "      <td>6</td>\n",
       "      <td>2.500000e+07</td>\n",
       "    </tr>\n",
       "    <tr>\n",
       "      <th>10</th>\n",
       "      <td>Medinfi</td>\n",
       "      <td>6</td>\n",
       "      <td>7.800000e+05</td>\n",
       "    </tr>\n",
       "    <tr>\n",
       "      <th>11</th>\n",
       "      <td>Flipkart</td>\n",
       "      <td>5</td>\n",
       "      <td>4.059700e+09</td>\n",
       "    </tr>\n",
       "    <tr>\n",
       "      <th>12</th>\n",
       "      <td>Oyo Rooms</td>\n",
       "      <td>5</td>\n",
       "      <td>6.350000e+08</td>\n",
       "    </tr>\n",
       "    <tr>\n",
       "      <th>13</th>\n",
       "      <td>Goqii</td>\n",
       "      <td>5</td>\n",
       "      <td>4.634000e+08</td>\n",
       "    </tr>\n",
       "    <tr>\n",
       "      <th>14</th>\n",
       "      <td>Grofers</td>\n",
       "      <td>5</td>\n",
       "      <td>2.970000e+08</td>\n",
       "    </tr>\n",
       "    <tr>\n",
       "      <th>15</th>\n",
       "      <td>Nykaa</td>\n",
       "      <td>5</td>\n",
       "      <td>2.140000e+08</td>\n",
       "    </tr>\n",
       "    <tr>\n",
       "      <th>16</th>\n",
       "      <td>Byju</td>\n",
       "      <td>5</td>\n",
       "      <td>1.750000e+08</td>\n",
       "    </tr>\n",
       "    <tr>\n",
       "      <th>17</th>\n",
       "      <td>Moglix</td>\n",
       "      <td>5</td>\n",
       "      <td>7.620000e+07</td>\n",
       "    </tr>\n",
       "    <tr>\n",
       "      <th>18</th>\n",
       "      <td>Capital Float</td>\n",
       "      <td>5</td>\n",
       "      <td>6.480000e+07</td>\n",
       "    </tr>\n",
       "    <tr>\n",
       "      <th>19</th>\n",
       "      <td>Coverfox</td>\n",
       "      <td>5</td>\n",
       "      <td>5.860000e+07</td>\n",
       "    </tr>\n",
       "  </tbody>\n",
       "</table>\n",
       "</div>"
      ],
      "text/plain": [
       "     Startup_Name  Unique_Investors  total_raised\n",
       "0        Ola Cabs                 8  6.697000e+08\n",
       "1          Swiggy                 8  2.705000e+08\n",
       "2           Paytm                 7  3.148950e+09\n",
       "3       Blackbuck                 6  2.683800e+08\n",
       "4          Meesho                 6  1.896000e+08\n",
       "5     Lendingkart                 6  1.461500e+08\n",
       "6        Nobroker                 6  7.140000e+07\n",
       "7        Lenskart                 6  6.565000e+07\n",
       "8       Urbanclap                 6  6.070000e+07\n",
       "9     Healthifyme                 6  2.500000e+07\n",
       "10        Medinfi                 6  7.800000e+05\n",
       "11       Flipkart                 5  4.059700e+09\n",
       "12      Oyo Rooms                 5  6.350000e+08\n",
       "13          Goqii                 5  4.634000e+08\n",
       "14        Grofers                 5  2.970000e+08\n",
       "15          Nykaa                 5  2.140000e+08\n",
       "16           Byju                 5  1.750000e+08\n",
       "17         Moglix                 5  7.620000e+07\n",
       "18  Capital Float                 5  6.480000e+07\n",
       "19       Coverfox                 5  5.860000e+07"
      ]
     },
     "execution_count": 542,
     "metadata": {},
     "output_type": "execute_result"
    }
   ],
   "source": [
    "query4 = \"\"\"\n",
    "SELECT\n",
    "    Startup_Name,\n",
    "    COUNT(DISTINCT Investors_Name) AS Unique_Investors,\n",
    "    SUM(Amount_in_USD) AS total_raised\n",
    "FROM funding\n",
    "GROUP BY Startup_Name\n",
    "HAVING Unique_Investors > 1\n",
    "ORDER BY Unique_Investors DESC, total_raised DESC\n",
    "LIMIT 20;\n",
    "\"\"\"\n",
    "multi_investor = pd.read_sql_query(query4, conn)\n",
    "multi_investor"
   ]
  },
  {
   "cell_type": "code",
   "execution_count": 543,
   "id": "f16cac88-a3ec-48ab-89d0-780fc2f1e4ad",
   "metadata": {},
   "outputs": [],
   "source": [
    "# CREATING A VIEW\n",
    "conn.execute(\"\"\"\n",
    "CREATE VIEW IF NOT EXISTS v_funding_summary AS\n",
    "SELECT\n",
    "    Year,\n",
    "    Industry_Vertical,\n",
    "    City__Location,\n",
    "    SUM(Amount_in_USD) AS total_funding,\n",
    "    COUNT(*) AS num_rounds\n",
    "FROM funding\n",
    "WHERE Amount_in_USD IS NOT NULL\n",
    "GROUP BY Year, industry_vertical, City__Location;\n",
    "\"\"\")\n",
    "conn.commit()\n"
   ]
  },
  {
   "cell_type": "code",
   "execution_count": 545,
   "id": "2ab2bfd3-5f2b-46e3-919c-ede968105c3f",
   "metadata": {},
   "outputs": [
    {
     "name": "stdout",
     "output_type": "stream",
     "text": [
      "✅ SQL View 'v_funding_summary' created.\n"
     ]
    }
   ],
   "source": [
    "print(\"✅ SQL View 'v_funding_summary' created.\")"
   ]
  },
  {
   "cell_type": "code",
   "execution_count": 546,
   "id": "148844c9-e833-4b2d-9626-ae038f4d1cbd",
   "metadata": {},
   "outputs": [
    {
     "name": "stdout",
     "output_type": "stream",
     "text": [
      "SQLite database connection closed.\n"
     ]
    }
   ],
   "source": [
    "conn.close()\n",
    "print(\"SQLite database connection closed.\")\n"
   ]
  },
  {
   "cell_type": "code",
   "execution_count": null,
   "id": "249f531b-ef24-4d09-a6e5-efbd8333209c",
   "metadata": {},
   "outputs": [],
   "source": []
  }
 ],
 "metadata": {
  "kernelspec": {
   "display_name": "Python 3 (ipykernel)",
   "language": "python",
   "name": "python3"
  },
  "language_info": {
   "codemirror_mode": {
    "name": "ipython",
    "version": 3
   },
   "file_extension": ".py",
   "mimetype": "text/x-python",
   "name": "python",
   "nbconvert_exporter": "python",
   "pygments_lexer": "ipython3",
   "version": "3.12.7"
  }
 },
 "nbformat": 4,
 "nbformat_minor": 5
}
